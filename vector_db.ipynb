{
 "cells": [
  {
   "cell_type": "markdown",
   "metadata": {},
   "source": [
    "### Library installations:"
   ]
  },
  {
   "cell_type": "code",
   "execution_count": 1,
   "metadata": {},
   "outputs": [
    {
     "name": "stdout",
     "output_type": "stream",
     "text": [
      "\n",
      "\u001b[1m[\u001b[0m\u001b[34;49mnotice\u001b[0m\u001b[1;39;49m]\u001b[0m\u001b[39;49m A new release of pip is available: \u001b[0m\u001b[31;49m24.1.2\u001b[0m\u001b[39;49m -> \u001b[0m\u001b[32;49m24.2\u001b[0m\n",
      "\u001b[1m[\u001b[0m\u001b[34;49mnotice\u001b[0m\u001b[1;39;49m]\u001b[0m\u001b[39;49m To update, run: \u001b[0m\u001b[32;49mpython3 -m pip install --upgrade pip\u001b[0m\n"
     ]
    }
   ],
   "source": [
    "!pip install -q langchain langchain-community \\\n",
    "pypdf2 pypdf pinecone-client python-dotenv \\\n",
    "langchain-groq langchain-openai sentence_transformers \\\n",
    "protoc_gen_openapiv2 langchain-pinecone faiss-cpu"
   ]
  },
  {
   "cell_type": "code",
   "execution_count": 2,
   "metadata": {},
   "outputs": [],
   "source": [
    "path_to_pdf = \"./docs/Einstein_Field_Equations.pdf\""
   ]
  },
  {
   "cell_type": "code",
   "execution_count": 4,
   "metadata": {},
   "outputs": [],
   "source": [
    "# local libraries for system runtime\n",
    "import os,getpass,time\n",
    "import numpy as np\n",
    "# from dotenv import load_dotenv\n",
    "# load_dotenv()\n",
    "# load pdfreader\n",
    "from langchain_community.document_loaders import PyPDFLoader\n",
    "from langchain_community.document_loaders import PyPDFDirectoryLoader\n",
    "# load docreader\n",
    "from langchain_community.document_loaders import Docx2txtLoader\n",
    "# load textreader\n",
    "from langchain_community.document_loaders import TextLoader\n",
    "# load document splitter\n",
    "from langchain.text_splitter import RecursiveCharacterTextSplitter\n",
    "# load embedding model\n",
    "from langchain_community.embeddings.spacy_embeddings import SpacyEmbeddings\n",
    "from langchain_community.embeddings import HuggingFaceBgeEmbeddings\n",
    "from langchain_openai import OpenAIEmbeddings\n",
    "# load LLM\n",
    "from langchain_openai import ChatOpenAI\n",
    "from langchain_groq import ChatGroq\n",
    "# load vector database\n",
    "import pinecone\n",
    "from langchain_pinecone import PineconeVectorStore\n",
    "from pinecone.grpc import PineconeGRPC as Pinecone\n",
    "from pinecone import ServerlessSpec, PodSpec\n",
    "from langchain_community.vectorstores import FAISS\n",
    "# load chain\n",
    "from langchain.chains import RetrievalQA\n",
    "from langchain.prompts import PromptTemplate\n",
    "from langchain.chains import ConversationalRetrievalChain"
   ]
  },
  {
   "cell_type": "code",
   "execution_count": 5,
   "metadata": {},
   "outputs": [],
   "source": [
    "pinecone_api_key = '9854bfe4-4bc9-44e8-a378-5133358eb7bf'\n",
    "groq_api_key = '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'"
   ]
  },
  {
   "cell_type": "code",
   "execution_count": 6,
   "metadata": {},
   "outputs": [],
   "source": [
    "chatbot_name = \"pinecone RAG\""
   ]
  },
  {
   "cell_type": "markdown",
   "metadata": {},
   "source": [
    "### Load and process document:"
   ]
  },
  {
   "cell_type": "code",
   "execution_count": 7,
   "metadata": {},
   "outputs": [],
   "source": [
    "loader = PyPDFLoader(path_to_pdf)\n",
    "docs_before_split = loader.load()"
   ]
  },
  {
   "cell_type": "code",
   "execution_count": 8,
   "metadata": {},
   "outputs": [
    {
     "data": {
      "text/plain": [
       "Document(metadata={'source': './docs/Einstein_Field_Equations.pdf', 'page': 0}, page_content=\"Einstein's Field Equations - Explanations\\nIntroduction to Einsteins Field Equations\\nEinstein's Field Equations are the cornerstone of General Relativity, a theory that describes the\\ngravitational interaction as a curvature of spacetime. These equations establish a relationship\\nbetween the geometry of spacetime and the energy-momentum of whatever matter and radiation\\nare present. The equations are complex, tensorial, and highly non-linear, meaning they can be\")"
      ]
     },
     "execution_count": 8,
     "metadata": {},
     "output_type": "execute_result"
    }
   ],
   "source": [
    "text_splitter = RecursiveCharacterTextSplitter(chunk_size=500, chunk_overlap=20)\n",
    "# split the document into chunks\n",
    "documents = text_splitter.split_documents(docs_before_split)\n",
    "documents[0]"
   ]
  },
  {
   "cell_type": "code",
   "execution_count": 9,
   "metadata": {},
   "outputs": [],
   "source": [
    "# huggingface_embeddings = HuggingFaceBgeEmbeddings(\n",
    "#     model_name=\"sentence-transformers/all-MiniLM-l6-v2\",\n",
    "#     model_kwargs={'device':'cpu'},\n",
    "#     encode_kwargs={'normalize_embeddings': True}\n",
    "# )\n",
    "\n",
    "huggingface_embeddings = HuggingFaceBgeEmbeddings(\n",
    "    model_name=\"BAAI/bge-small-en-v1.5\", \n",
    "    model_kwargs={'device':'cpu'},\n",
    "    encode_kwargs={'normalize_embeddings': True}\n",
    ")"
   ]
  },
  {
   "cell_type": "code",
   "execution_count": 10,
   "metadata": {},
   "outputs": [
    {
     "name": "stdout",
     "output_type": "stream",
     "text": [
      "Sample embedding of a document chunk:  [-2.57196296e-02  5.61678642e-03 -4.17459942e-02 -2.03188742e-03\n",
      " -1.19265709e-02 -2.38850955e-02  1.80438452e-03  3.45708914e-02\n",
      " -4.19951379e-02 -7.01188445e-02  4.61646877e-02 -1.22090057e-01\n",
      " -3.90262678e-02  2.57404149e-02 -1.81447342e-02 -6.88697472e-02\n",
      " -2.91969553e-02  4.17362414e-02 -8.81220028e-02  2.08869129e-02\n",
      "  9.87989679e-02 -2.67759431e-02 -4.79759388e-02 -2.20333878e-02\n",
      " -3.84740159e-03  3.31196263e-02  2.22840183e-03  4.95486334e-03\n",
      " -3.64686698e-02 -1.39846593e-01 -3.24269608e-02 -1.34811271e-02\n",
      "  5.22301048e-02  4.92836535e-02 -3.68084647e-02  4.45043389e-03\n",
      "  8.81441683e-02 -2.61307135e-02 -4.14519347e-02  7.41159320e-02\n",
      "  5.33964932e-02  1.70158688e-02  1.01144565e-02 -1.83858741e-02\n",
      "  2.81684194e-02 -1.52100883e-02  1.49226533e-02  3.81897874e-02\n",
      " -4.50172834e-02 -5.51118776e-02  2.28613764e-02 -3.07494570e-02\n",
      " -1.07446492e-01  3.40125076e-02 -1.62826814e-02  2.65529547e-02\n",
      " -5.82772633e-03 -9.51422658e-03 -8.40124581e-03  3.02176364e-03\n",
      "  4.40290337e-03  1.52028287e-02 -1.38731688e-01  6.51753843e-02\n",
      "  6.26420379e-02  3.55429463e-02  2.20975950e-02 -6.05836846e-02\n",
      " -4.08055782e-02  2.74738390e-02 -5.15953824e-02  3.02977189e-02\n",
      " -6.28656149e-02  2.41719764e-02 -2.22610962e-03 -4.89981472e-02\n",
      " -2.62902323e-02 -1.75449047e-02  3.44164595e-02  6.34008870e-02\n",
      " -5.86283347e-03 -2.20918562e-03 -1.75876077e-02  2.66841557e-02\n",
      " -2.15947311e-02  1.65217929e-02  5.04618436e-02 -3.46702486e-02\n",
      "  3.17344293e-02  6.39199987e-02 -8.01500753e-02 -8.31124932e-02\n",
      " -5.77488691e-02  1.97598543e-02 -3.49078909e-03 -1.62211545e-02\n",
      " -2.42975187e-02  1.56988055e-02  6.55773506e-02  3.32911074e-01\n",
      " -1.44467251e-02  1.26557816e-02  5.88987730e-02  8.34768564e-02\n",
      "  3.00387177e-03 -8.22602119e-03  2.09521246e-03 -8.20607413e-04\n",
      "  7.84740821e-02  3.41834538e-02 -1.59822814e-02  4.91466299e-02\n",
      " -1.23674131e-03 -1.20513542e-02  2.09982712e-02 -3.87829170e-02\n",
      " -1.87510233e-02 -4.13081124e-02  4.33592424e-02 -1.04393242e-02\n",
      " -4.61509004e-02  4.21178639e-02  3.93701605e-02 -2.19963794e-03\n",
      "  8.18019547e-03  1.90195609e-02 -3.67686078e-02  5.77014014e-02\n",
      "  4.04235208e-03 -2.09625531e-02  3.46070193e-02 -3.46104056e-02\n",
      " -4.98063192e-02  1.56838931e-02  3.35284583e-02  3.17956135e-02\n",
      "  3.17438804e-02  7.47180954e-02 -3.04555595e-02  9.08040926e-02\n",
      " -1.47899659e-02 -4.76893671e-02 -1.34127552e-03 -5.10632098e-02\n",
      " -2.16672421e-02  1.05708979e-01 -2.90923286e-02 -5.92007861e-03\n",
      " -7.23165870e-02  2.86409874e-02 -4.53289226e-02 -7.39650847e-03\n",
      " -5.76694123e-03  5.70006706e-02 -9.44122020e-03  3.11265048e-02\n",
      "  5.96204549e-02  7.76130054e-03 -8.98717493e-02 -2.01156940e-02\n",
      " -9.38182697e-02 -9.24363639e-03 -1.40593583e-02  1.25952676e-01\n",
      "  1.25345169e-02 -3.41778807e-02 -3.19911689e-02  2.32821107e-02\n",
      " -8.05786718e-03 -1.43727753e-02  5.41162565e-02  4.30025347e-02\n",
      "  2.26085540e-02 -5.71315996e-02  8.37114155e-02 -3.51013243e-02\n",
      " -8.61301646e-03 -2.32143179e-02  1.38739115e-02  2.33388096e-02\n",
      "  3.99008878e-02 -7.55602308e-03 -3.36240344e-02  3.37959304e-02\n",
      " -2.04064604e-02 -4.04463708e-02 -7.90540949e-02  4.11909595e-02\n",
      "  1.39785456e-02 -4.05200124e-02  1.71019379e-02  4.55405749e-02\n",
      " -4.51352596e-02  1.12816636e-02 -3.84738594e-02  3.68744023e-02\n",
      "  4.89816768e-03 -1.61163453e-02  2.66512651e-02 -3.53856273e-02\n",
      " -5.12936637e-02 -1.71826929e-02  2.73536723e-02  5.18431477e-02\n",
      "  3.25366780e-02  8.81091971e-03  1.11739561e-02 -5.29635511e-03\n",
      " -8.25605169e-02  7.54958689e-02 -7.30655098e-04 -2.86438521e-02\n",
      " -1.10436790e-01 -6.52608946e-02 -1.98036693e-02 -1.28588239e-02\n",
      "  3.65585834e-02 -7.44116381e-02 -8.19367841e-02  5.42482920e-02\n",
      " -2.23297067e-02 -5.01221642e-02 -7.80238956e-03 -2.68999547e-01\n",
      " -3.12156826e-02 -4.77093570e-02 -5.40128313e-02  9.78827402e-02\n",
      " -8.23860541e-02  5.59842810e-02 -7.52996234e-03 -9.47774798e-02\n",
      "  6.39458885e-03  1.07890353e-01  2.62888465e-02 -4.61680405e-02\n",
      " -4.78934087e-02 -2.14019325e-02 -4.80087660e-02 -1.43613219e-01\n",
      " -2.42661647e-02 -1.03738137e-01 -2.18781903e-02 -7.22145895e-03\n",
      "  4.02492732e-02  9.30016953e-03  1.42425532e-02 -1.58793852e-02\n",
      " -1.16971089e-02  7.56373554e-02  5.89116216e-02  2.46175770e-02\n",
      " -2.69668605e-02  1.13767991e-02 -1.01801669e-02 -8.73838458e-03\n",
      "  3.37538915e-03  4.09699185e-03 -2.05874480e-02  3.66586670e-02\n",
      " -4.10452373e-02  1.34688627e-03 -4.22262289e-02 -3.06370556e-02\n",
      "  3.56116258e-02  1.39487302e-02  5.94311953e-02 -3.20614129e-02\n",
      " -8.26763734e-03 -1.49144009e-02 -8.51417799e-03  6.02639616e-02\n",
      " -3.81219247e-03  5.61475940e-02 -2.70401556e-02  2.48859692e-02\n",
      "  3.63368578e-02 -2.45506447e-02 -3.44203003e-02  2.52380949e-02\n",
      " -6.25530351e-03 -3.10317259e-02  5.57428524e-02 -3.88233631e-04\n",
      "  5.52132875e-02  1.09731872e-02  5.95565466e-03  2.08630525e-02\n",
      "  2.05951165e-02 -2.43199803e-02 -3.66493724e-02 -5.81085607e-02\n",
      " -6.15031878e-03  1.44546041e-02  9.05734748e-02 -3.79221477e-02\n",
      "  1.28138363e-02  8.91925320e-02 -1.97992218e-03  8.22699741e-02\n",
      "  3.20679694e-02 -8.91474076e-03 -2.61889789e-02  3.37627679e-02\n",
      "  9.04130097e-03  5.51046617e-03  8.06649774e-02 -3.90089815e-03\n",
      " -2.92645507e-02  1.80616658e-02 -1.13329254e-01 -7.67607056e-03\n",
      " -7.46648982e-02 -2.71204207e-02  1.78268161e-02 -1.65246311e-03\n",
      "  1.67186111e-02 -1.47568509e-02 -9.48775280e-03 -2.41951182e-01\n",
      "  6.27817884e-02  1.12578543e-02 -2.44071390e-02  6.35378808e-02\n",
      "  2.54637487e-02  4.49064896e-02 -1.34499595e-02 -7.67976716e-02\n",
      " -1.90769676e-02 -2.93550882e-02  3.95677313e-02  1.41339062e-03\n",
      " -7.00145448e-03  1.96905006e-02 -1.44229198e-04  9.46739689e-02\n",
      " -2.38854997e-02  3.87089476e-02  2.88513619e-02  2.56819874e-02\n",
      "  2.41905618e-02  1.37135670e-01  2.21523102e-02  2.12234855e-02\n",
      " -1.00554135e-02  5.71136214e-02 -6.37330581e-03  6.21120632e-02\n",
      "  1.43974023e-02  2.09445395e-02  1.43494364e-02  7.42035881e-02\n",
      " -4.80636135e-02  4.97687198e-02  2.07325183e-02  7.52616301e-02\n",
      "  8.59298483e-02  5.29551394e-02  2.58093439e-02  3.85616459e-02\n",
      "  7.70455832e-03 -2.06551291e-02 -1.56129552e-02  1.99884269e-02\n",
      " -5.08072041e-02  2.00703531e-03 -5.17595485e-02 -7.93994870e-03\n",
      " -3.45929600e-02  2.16691494e-02  9.24295280e-03  3.21527235e-02\n",
      "  1.59285776e-02  2.93563548e-02  8.56069401e-02 -3.02572735e-02\n",
      "  6.89506717e-03  1.89330317e-02  3.75656001e-02  1.27324183e-02\n",
      "  1.46049233e-02  6.45742100e-03 -4.59718443e-02 -4.47792299e-02]\n",
      "Size of the embedding:  (384,)\n"
     ]
    }
   ],
   "source": [
    "sample_embedding = np.array(huggingface_embeddings.embed_query(documents[0].page_content))\n",
    "print(\"Sample embedding of a document chunk: \", sample_embedding)\n",
    "print(\"Size of the embedding: \", sample_embedding.shape)"
   ]
  },
  {
   "cell_type": "markdown",
   "metadata": {},
   "source": [
    "### Loading the Vector DB:"
   ]
  },
  {
   "cell_type": "code",
   "execution_count": 15,
   "metadata": {},
   "outputs": [],
   "source": [
    "# configure client\n",
    "use_serverless = True\n",
    "pc = Pinecone(api_key=pinecone_api_key)\n",
    "if use_serverless:\n",
    "    spec = ServerlessSpec(cloud='aws', region='us-east-1')\n",
    "else:\n",
    "    # if not using a starter index, you should specify a pod_type too\n",
    "    spec = PodSpec()\n",
    "# check for and delete index if already exists\n",
    "index_name = 'pinecone-rag'\n",
    "if index_name in pc.list_indexes().names():\n",
    "    pc.delete_index(index_name)\n",
    "# create a new index\n",
    "pc.create_index(\n",
    "    index_name,\n",
    "    dimension=384,  # confirm embedding model dimensionality\n",
    "    metric='dotproduct',\n",
    "    spec=spec\n",
    ")\n",
    "# wait for index to be initialized\n",
    "while not pc.describe_index(index_name).status['ready']:\n",
    "    time.sleep(1)\n"
   ]
  },
  {
   "cell_type": "code",
   "execution_count": 16,
   "metadata": {},
   "outputs": [
    {
     "data": {
      "text/plain": [
       "{'dimension': 384,\n",
       " 'index_fullness': 0.0,\n",
       " 'namespaces': {'': {'vector_count': 0}},\n",
       " 'total_vector_count': 0}"
      ]
     },
     "execution_count": 16,
     "metadata": {},
     "output_type": "execute_result"
    }
   ],
   "source": [
    "# verify database is created\n",
    "index = pc.Index(index_name)\n",
    "index.describe_index_stats()"
   ]
  },
  {
   "cell_type": "code",
   "execution_count": 18,
   "metadata": {},
   "outputs": [],
   "source": [
    "vector_store = PineconeVectorStore(index=index, embedding=huggingface_embeddings)\n"
   ]
  },
  {
   "cell_type": "code",
   "execution_count": 21,
   "metadata": {},
   "outputs": [],
   "source": [
    "from uuid import uuid4\n"
   ]
  },
  {
   "cell_type": "code",
   "execution_count": 24,
   "metadata": {},
   "outputs": [],
   "source": [
    "os.environ['PINECONE_API_KEY'] = '9854bfe4-4bc9-44e8-a378-5133358eb7bf'\n"
   ]
  },
  {
   "cell_type": "code",
   "execution_count": 25,
   "metadata": {},
   "outputs": [],
   "source": [
    "#now upsert document to db\n",
    "vectordb = PineconeVectorStore.from_documents(\n",
    "        documents,\n",
    "        index_name=index_name,\n",
    "        embedding=huggingface_embeddings\n",
    "    )"
   ]
  },
  {
   "cell_type": "code",
   "execution_count": 26,
   "metadata": {},
   "outputs": [
    {
     "data": {
      "text/plain": [
       "{'dimension': 384,\n",
       " 'index_fullness': 0.0,\n",
       " 'namespaces': {'': {'vector_count': 16}},\n",
       " 'total_vector_count': 16}"
      ]
     },
     "execution_count": 26,
     "metadata": {},
     "output_type": "execute_result"
    }
   ],
   "source": [
    "index.describe_index_stats()"
   ]
  },
  {
   "cell_type": "code",
   "execution_count": 28,
   "metadata": {},
   "outputs": [],
   "source": [
    "query = \"What are the field equations?\"\n",
    "k_3 = vectordb.similarity_search(query,k=3)# return 3 most relevant docs"
   ]
  },
  {
   "cell_type": "code",
   "execution_count": 29,
   "metadata": {},
   "outputs": [
    {
     "name": "stdout",
     "output_type": "stream",
     "text": [
      "page_content='Einstein's Field Equations - Explanations\n",
      "Introduction to Einsteins Field Equations\n",
      "Einstein's Field Equations are the cornerstone of General Relativity, a theory that describes the\n",
      "gravitational interaction as a curvature of spacetime. These equations establish a relationship\n",
      "between the geometry of spacetime and the energy-momentum of whatever matter and radiation\n",
      "are present. The equations are complex, tensorial, and highly non-linear, meaning they can be' metadata={'page': 0.0, 'source': './docs/Einstein_Field_Equations.pdf'}\n"
     ]
    }
   ],
   "source": [
    "print(k_3[0])"
   ]
  },
  {
   "cell_type": "code",
   "execution_count": null,
   "metadata": {},
   "outputs": [],
   "source": [
    "\n"
   ]
  }
 ],
 "metadata": {
  "kernelspec": {
   "display_name": "Python 3",
   "language": "python",
   "name": "python3"
  },
  "language_info": {
   "codemirror_mode": {
    "name": "ipython",
    "version": 3
   },
   "file_extension": ".py",
   "mimetype": "text/x-python",
   "name": "python",
   "nbconvert_exporter": "python",
   "pygments_lexer": "ipython3",
   "version": "3.10.13"
  }
 },
 "nbformat": 4,
 "nbformat_minor": 2
}
